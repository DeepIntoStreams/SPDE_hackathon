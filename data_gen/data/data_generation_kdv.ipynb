{
  "cells": [
    {
      "cell_type": "markdown",
      "metadata": {
        "colab_type": "text",
        "id": "view-in-github"
      },
      "source": [
        "<a href=\"https://colab.research.google.com/github/crispitagorico/Neural-SPDEs/blob/main/data/data_generation_kdv.ipynb\" target=\"_parent\"><img src=\"https://colab.research.google.com/assets/colab-badge.svg\" alt=\"Open In Colab\"/></a>"
      ]
    },
    {
      "cell_type": "markdown",
      "metadata": {
        "id": "FRp1ivXVOXsf"
      },
      "source": [
        "<center> <h1>Data generator for the Korteweg–De Vries (KdV) equation</h1> </center>\n",
        "\n",
        "***"
      ]
    },
    {
      "cell_type": "code",
      "execution_count": null,
      "metadata": {
        "id": "qsVFfW1ay-a7"
      },
      "outputs": [],
      "source": [
        "# clone GitHub repository"
      ]
    },
    {
      "cell_type": "code",
      "execution_count": null,
      "metadata": {
        "colab": {
          "base_uri": "https://localhost:8080/"
        },
        "id": "w9M_TNUdCTMn",
        "outputId": "3ba83848-82e2-40dd-f758-5772bc26269f"
      },
      "outputs": [],
      "source": [
        "#path to 'data'\n",
        "%cd E:/Doc/SignatureAndML/code/SPDE_hackathon/data_gen/data "
      ]
    },
    {
      "cell_type": "code",
      "execution_count": null,
      "metadata": {
        "id": "D1d2vx17zqv2"
      },
      "outputs": [],
      "source": [
        "import matplotlib.pyplot as plt\n",
        "import numpy as np\n",
        "import scipy.io\n",
        "import matplotlib.animation\n",
        "plt.rcParams[\"animation.html\"] = \"jshtml\""
      ]
    },
    {
      "cell_type": "code",
      "execution_count": null,
      "metadata": {
        "id": "tU8aNOHZzRh4"
      },
      "outputs": [],
      "source": [
        "%run Noise.ipynb\n",
        "%run general_solver.ipynb\n",
        "%run SPDE_Data_Generator.ipynb"
      ]
    },
    {
      "cell_type": "markdown",
      "metadata": {
        "id": "v1bf77od00tM"
      },
      "source": [
        "# Dataset $\\xi\\to u$\n",
        "\n",
        "We sample multiple paths $\\xi^1, \\ldots, \\xi^n$ from a Q-Wiener process in one dimension, and then solve the\n",
        "SPDE. The initial condition $u_0$ is kept fixed across the $n$ samples, and $u_0(x)=x(1-x)$. "
      ]
    },
    {
      "cell_type": "code",
      "execution_count": null,
      "metadata": {
        "id": "lAAA-FAIEXzK"
      },
      "outputs": [],
      "source": [
        "n = 1200 # number of solutions\n",
        "Nx, Nt = 2**7, 10**2  # number of observations in space and time\n",
        "dx, dt = 1./Nx, 1./Nt  # space-time discretization\n",
        "a, b, s, t = 0, 1, 0, 1 # space-time boundaries"
      ]
    },
    {
      "cell_type": "markdown",
      "metadata": {
        "id": "n9_9jmZDsdTR"
      },
      "source": [
        "initial condition"
      ]
    },
    {
      "cell_type": "code",
      "execution_count": null,
      "metadata": {
        "id": "NnlXKn0DFLhB"
      },
      "outputs": [],
      "source": [
        "u0 = np.array([[x*(1-x) for x in np.linspace(a,b,Nx+1)[:-1]] for _ in range(n)]) # initial condition"
      ]
    },
    {
      "cell_type": "markdown",
      "metadata": {
        "id": "cF6e1ldPsfK_"
      },
      "source": [
        "stochastic forcing"
      ]
    },
    {
      "cell_type": "code",
      "execution_count": null,
      "metadata": {
        "id": "-LCuOxPdrddp"
      },
      "outputs": [],
      "source": [
        "r = 4 # Creates r/2 spatially smooth noise\n",
        "corr = lambda x, j, a : smooth_corr(x, j, a, r + 1.001)\n",
        "W_smooth = Noise().WN_space_time_many(s, t, dt*0.1, a, b, dx, n, correlation = corr)"
      ]
    },
    {
      "cell_type": "code",
      "execution_count": null,
      "metadata": {
        "id": "uOPosJ-tByY0"
      },
      "outputs": [],
      "source": [
        "W_smooth = W_smooth[:,::10,:]"
      ]
    },
    {
      "cell_type": "markdown",
      "metadata": {
        "id": "uWa_43k8sjMd"
      },
      "source": [
        "solve"
      ]
    },
    {
      "cell_type": "code",
      "execution_count": null,
      "metadata": {
        "colab": {
          "base_uri": "https://localhost:8080/"
        },
        "id": "s6Qm4IBUqrGF",
        "outputId": "17ed01f6-b703-4a27-b8fa-944353274dc5"
      },
      "outputs": [],
      "source": [
        "L_kdv = [0,0,1e-3,-0.1,0]\n",
        "mu_kdv = lambda x: 0 \n",
        "sigma_kdv = lambda x: 1\n",
        "\n",
        "KdV, _, _ = general_1d_solver(L_kdv, u0, W_smooth[:,:,:-1], mu = mu_kdv, sigma = sigma_kdv, Burgers= -6)"
      ]
    },
    {
      "cell_type": "code",
      "execution_count": null,
      "metadata": {
        "id": "X2dU5bBh0pey"
      },
      "outputs": [],
      "source": [
        "W = W_smooth.transpose(0,2,1)\n",
        "soln = KdV.transpose(0,2,1)"
      ]
    },
    {
      "cell_type": "code",
      "execution_count": null,
      "metadata": {
        "id": "a22rfeRRtti6"
      },
      "outputs": [],
      "source": [
        "O_X, O_T = np.linspace(0,1,W.shape[-2]), np.linspace(0,1,W.shape[-1])"
      ]
    },
    {
      "cell_type": "code",
      "execution_count": null,
      "metadata": {},
      "outputs": [],
      "source": [
        "import os\n",
        "path = 'drive/MyDrive/data_kdv/'\n",
        "if not os.path.exists(path):\n",
        "    print(f\"路径不存在: {path}\")\n",
        "else:\n",
        "    print(f\"路径存在: {path}\")\n",
        "\n",
        "os.makedirs(path, exist_ok=True)"
      ]
    },
    {
      "cell_type": "code",
      "execution_count": null,
      "metadata": {
        "id": "XmBveJXXznaQ"
      },
      "outputs": [],
      "source": [
        "scipy.io.savemat('drive/MyDrive/data_kdv/kdv_xi_{}.mat'.format(n), mdict={'X':O_X, 'T':O_T, 'W': W, 'sol': soln})"
      ]
    },
    {
      "cell_type": "code",
      "execution_count": null,
      "metadata": {
        "colab": {
          "base_uri": "https://localhost:8080/",
          "height": 761
        },
        "id": "BmjG5l00s17A",
        "outputId": "78963266-4fa1-4590-9d25-9b02002920f4"
      },
      "outputs": [],
      "source": [
        "fig, ax = plt.subplots(figsize=(5,5))\n",
        "\n",
        "def animate(t):\n",
        "    plt.cla()\n",
        "    plt.plot(soln[0,...,10*t])\n",
        "\n",
        "matplotlib.animation.FuncAnimation(fig, animate, frames=100)"
      ]
    },
    {
      "cell_type": "code",
      "execution_count": null,
      "metadata": {
        "colab": {
          "base_uri": "https://localhost:8080/",
          "height": 358
        },
        "id": "Tm7p3LhP-opk",
        "outputId": "a1bd1425-d17c-4795-c194-8e9a7854f532"
      },
      "outputs": [],
      "source": [
        "x_m, t_m = np.meshgrid(O_T[::10], O_X[:-1])\n",
        "\n",
        "fig, ax = plt.subplots(1,3,figsize=(15,5))\n",
        "\n",
        "for i in range(3):\n",
        "  ax[i].contourf(t_m, x_m, soln[i,:,::10], 50, cmap=plt.cm.jet)\n",
        "  ax[i].set_xlabel('x')\n",
        "  ax[i].set_ylabel('t')\n",
        "plt.suptitle(r'Three solutions from the stochastic KdV equation')\n",
        "plt.show()"
      ]
    },
    {
      "cell_type": "markdown",
      "metadata": {
        "id": "T68x3jtV0-yT"
      },
      "source": [
        "# Dataset $(u_0,\\xi)\\to u$\n",
        "\n",
        "We sample multiple paths $\\xi^1, \\ldots, \\xi^n$ from a Q-Wiener process in one dimension. We sample the initial condition $u_0^1, \\ldots, u_0^n$ and then solve the\n",
        "SPDE for each $(u_0^i,\\xi^i)$."
      ]
    },
    {
      "cell_type": "code",
      "execution_count": null,
      "metadata": {
        "id": "PvvKdItQ1BRz"
      },
      "outputs": [],
      "source": [
        "n = 1200 # number of solutions\n",
        "Nx, Nt = 2**7, 10**2  # number of observations in space and time\n",
        "dx, dt = 1./Nx, 1./Nt  # space-time discretization\n",
        "a, b, s, t = 0, 1, 0, 1 # space-time boundaries"
      ]
    },
    {
      "cell_type": "code",
      "execution_count": null,
      "metadata": {
        "id": "oF4FqP1e1Rh1"
      },
      "outputs": [],
      "source": [
        "u0 = np.array([[x*(1-x) for x in np.linspace(a,b,Nx+1)[:-1]] for _ in range(n)]) # initial condition\n",
        "\n",
        "X_ = np.linspace(-0.5,0.5,Nx+1)\n",
        "ic_ = Noise().initial(n, X_, scaling = 1, Dirichlet = True)[...,:-1] # one cycle\n",
        "\n",
        "u0 = (ic_-ic_[:,0,None]) + u0"
      ]
    },
    {
      "cell_type": "code",
      "execution_count": null,
      "metadata": {
        "colab": {
          "base_uri": "https://localhost:8080/"
        },
        "id": "xrJyL-ovP7mM",
        "outputId": "d43f0161-c1af-401d-f67a-e5281d8232fb"
      },
      "outputs": [],
      "source": [
        "L_kdv = [0,0,1e-3,-0.1,0]\n",
        "mu_kdv = lambda x: 0 \n",
        "sigma_kdv = lambda x: 1\n",
        "\n",
        "KdV_u0, _, _ = general_1d_solver(L_kdv, u0, W_smooth[:,:,:-1], mu = mu_kdv, sigma = sigma_kdv, Burgers= -6)"
      ]
    },
    {
      "cell_type": "code",
      "execution_count": null,
      "metadata": {
        "id": "r5xjTcs0QCUK"
      },
      "outputs": [],
      "source": [
        "W = W.transpose(0,2,1)\n",
        "soln = KdV_u0.transpose(0,2,1)"
      ]
    },
    {
      "cell_type": "code",
      "execution_count": null,
      "metadata": {
        "id": "bIhkp1T9QEhc"
      },
      "outputs": [],
      "source": [
        "scipy.io.savemat('drive/MyDrive/data_kdv/kdv_xi_u0{}.mat'.format(n), mdict={'X':O_X, 'T':O_T, 'W': W, 'sol': soln})"
      ]
    },
    {
      "cell_type": "code",
      "execution_count": null,
      "metadata": {
        "colab": {
          "base_uri": "https://localhost:8080/",
          "height": 358
        },
        "id": "Ax0dL6jMBNtS",
        "outputId": "fa9679a9-e54c-48a9-effb-69309b2eb107"
      },
      "outputs": [],
      "source": [
        "x_m, t_m = np.meshgrid(O_T[::10], O_X[:-1])\n",
        "\n",
        "fig, ax = plt.subplots(1,3,figsize=(15,5))\n",
        "\n",
        "for i in range(3):\n",
        "  ax[i].contourf(t_m, x_m, soln[i,:,::10], 50, cmap=plt.cm.jet)\n",
        "  ax[i].set_xlabel('x')\n",
        "  ax[i].set_ylabel('t')\n",
        "plt.suptitle(r'Three solutions from the stochastic KdV equation')\n",
        "plt.show()"
      ]
    },
    {
      "cell_type": "code",
      "execution_count": null,
      "metadata": {
        "colab": {
          "base_uri": "https://localhost:8080/",
          "height": 311
        },
        "id": "EpO00shVvbfS",
        "outputId": "6373376c-5710-456a-cdc6-81919ee471f3"
      },
      "outputs": [],
      "source": [
        "fig, ax = plt.subplots(1,3,figsize=(15,5))\n",
        "for i in range(3):  \n",
        "  ax[i].plot(KdV_u0[i,-1,:])\n",
        "  ax[i].plot(KdV[i,-1,:])\n",
        "plt.show()"
      ]
    },
    {
      "cell_type": "code",
      "execution_count": null,
      "metadata": {
        "id": "GkJvOiRwx1_4"
      },
      "outputs": [],
      "source": []
    }
  ],
  "metadata": {
    "colab": {
      "authorship_tag": "ABX9TyNmyykgWnn7Sw04ivJm65M5",
      "collapsed_sections": [],
      "include_colab_link": true,
      "mount_file_id": "1DE_9ivmI91u-iF2imwsdFt5JQ3bp-qQd",
      "name": "data_generation_kdv.ipynb",
      "provenance": []
    },
    "kernelspec": {
      "display_name": "openmmlab",
      "language": "python",
      "name": "python3"
    },
    "language_info": {
      "codemirror_mode": {
        "name": "ipython",
        "version": 3
      },
      "file_extension": ".py",
      "mimetype": "text/x-python",
      "name": "python",
      "nbconvert_exporter": "python",
      "pygments_lexer": "ipython3",
      "version": "3.8.20"
    }
  },
  "nbformat": 4,
  "nbformat_minor": 0
}
